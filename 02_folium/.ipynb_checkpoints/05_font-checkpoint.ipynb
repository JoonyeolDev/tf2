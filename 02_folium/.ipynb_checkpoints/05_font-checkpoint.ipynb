{
 "cells": [
  {
   "cell_type": "code",
   "execution_count": 6,
   "id": "ebf229d1-9baf-4eb2-b926-79fb52aa132a",
   "metadata": {},
   "outputs": [],
   "source": [
    "# 맑은고딕 : Malgun Gothic\n",
    "\n",
    "import matplotlib\n",
    "import numpy as np"
   ]
  },
  {
   "cell_type": "code",
   "execution_count": 7,
   "id": "8940bc14-0188-4fd6-9da2-8bbe6ffc4c72",
   "metadata": {},
   "outputs": [
    {
     "data": {
      "text/plain": [
       "'C:\\\\Users\\\\user\\\\.matplotlib'"
      ]
     },
     "execution_count": 7,
     "metadata": {},
     "output_type": "execute_result"
    }
   ],
   "source": [
    "matplotlib.get_configdir()"
   ]
  },
  {
   "cell_type": "code",
   "execution_count": 8,
   "id": "6615cc89-7a6a-46d8-b14f-ff0770350ce4",
   "metadata": {},
   "outputs": [
    {
     "data": {
      "text/plain": [
       "'C:\\\\Users\\\\user\\\\.matplotlib'"
      ]
     },
     "execution_count": 8,
     "metadata": {},
     "output_type": "execute_result"
    }
   ],
   "source": [
    "matplotlib.get_cachedir()"
   ]
  },
  {
   "cell_type": "code",
   "execution_count": 10,
   "id": "f6654baa-6ac8-4fab-8150-a6031340a723",
   "metadata": {},
   "outputs": [
    {
     "data": {
      "text/plain": [
       "'C:\\\\Users\\\\user\\\\anaconda3\\\\lib\\\\site-packages\\\\matplotlib\\\\mpl-data\\\\matplotlibrc'"
      ]
     },
     "execution_count": 10,
     "metadata": {},
     "output_type": "execute_result"
    }
   ],
   "source": [
    "matplotlib.matplotlib_fname()"
   ]
  },
  {
   "cell_type": "code",
   "execution_count": 12,
   "id": "5ce3c9dc-e89d-42bc-a1ab-52dd1ba38d4f",
   "metadata": {},
   "outputs": [],
   "source": [
    "import matplotlib.pyplot as plt\n",
    "import matplotlib.font_manager as fm"
   ]
  },
  {
   "cell_type": "code",
   "execution_count": 13,
   "id": "85738ea3-34a6-4f01-a2d1-833369eb5f3b",
   "metadata": {},
   "outputs": [
    {
     "ename": "TypeError",
     "evalue": "findSystemFonts() got an unexpected keyword argument 'fonttext'",
     "output_type": "error",
     "traceback": [
      "\u001b[1;31m---------------------------------------------------------------------------\u001b[0m",
      "\u001b[1;31mTypeError\u001b[0m                                 Traceback (most recent call last)",
      "Input \u001b[1;32mIn [13]\u001b[0m, in \u001b[0;36m<cell line: 1>\u001b[1;34m()\u001b[0m\n\u001b[1;32m----> 1\u001b[0m \u001b[43mfm\u001b[49m\u001b[38;5;241;43m.\u001b[39;49m\u001b[43mfindSystemFonts\u001b[49m\u001b[43m(\u001b[49m\u001b[43mfonttext\u001b[49m\u001b[38;5;241;43m=\u001b[39;49m\u001b[38;5;124;43m'\u001b[39;49m\u001b[38;5;124;43mttf\u001b[39;49m\u001b[38;5;124;43m'\u001b[39;49m\u001b[43m)\u001b[49m\n",
      "\u001b[1;31mTypeError\u001b[0m: findSystemFonts() got an unexpected keyword argument 'fonttext'"
     ]
    }
   ],
   "source": [
    "fm.findSystemFonts(fonttext='ttf')"
   ]
  },
  {
   "cell_type": "code",
   "execution_count": null,
   "id": "f5bd0380-f227-41a4-b848-cb9936855259",
   "metadata": {},
   "outputs": [],
   "source": [
    "matplotlib.matplotlib_fname()"
   ]
  },
  {
   "cell_type": "code",
   "execution_count": null,
   "id": "7bbbf94f-0f78-4c95-8521-70a0916acff4",
   "metadata": {},
   "outputs": [],
   "source": [
    "fm.fontmanager.ttflist[:2]"
   ]
  },
  {
   "cell_type": "code",
   "execution_count": null,
   "id": "fa962992-bf22-4b02-9df4-acae9adb8526",
   "metadata": {},
   "outputs": [],
   "source": [
    "[(f.name,f.fname) for f in fm.findSystemFonts.ttflist if 'Nanum' in f.name]\n",
    "#[f.name, for f in fm.findSystemFonts]"
   ]
  },
  {
   "cell_type": "code",
   "execution_count": null,
   "id": "3cfc7ae2-a243-4450-abd8-2d48f8d27b12",
   "metadata": {},
   "outputs": [],
   "source": [
    "# 1. font 파일이 바로 있는 경우\n",
    "\n",
    "path = 'NanumBrush.ttf'\n",
    "\n",
    "fontporp = fm.FontProperties(fname=path,size=17)\n"
   ]
  },
  {
   "cell_type": "code",
   "execution_count": null,
   "id": "4cf1acd8-081f-421a-8cd7-fa46da8623d0",
   "metadata": {},
   "outputs": [],
   "source": [
    "# 2. "
   ]
  },
  {
   "cell_type": "code",
   "execution_count": 14,
   "id": "59e69167-572b-4a1a-9a61-b6fe13029841",
   "metadata": {},
   "outputs": [
    {
     "data": {
      "text/plain": [
       "['sans-serif']"
      ]
     },
     "execution_count": 14,
     "metadata": {},
     "output_type": "execute_result"
    }
   ],
   "source": [
    "plt.rcParams['font.family']"
   ]
  },
  {
   "cell_type": "code",
   "execution_count": 15,
   "id": "3232ec20-5462-42c5-a797-7e7d216ba1f4",
   "metadata": {},
   "outputs": [
    {
     "data": {
      "text/plain": [
       "10.0"
      ]
     },
     "execution_count": 15,
     "metadata": {},
     "output_type": "execute_result"
    }
   ],
   "source": [
    "plt.rcParams['font.size']"
   ]
  },
  {
   "cell_type": "code",
   "execution_count": null,
   "id": "4ce6aace-a70f-4f2e-9cec-03f1f8a9a432",
   "metadata": {},
   "outputs": [],
   "source": [
    "plt.rcParams['font.family'] = 'NanumGothic'\n",
    "plt.rcParams['font.size'] = 'NanumGothic'"
   ]
  },
  {
   "cell_type": "code",
   "execution_count": null,
   "id": "8c868887-dc4f-4636-a3a6-4c99e08da3ba",
   "metadata": {},
   "outputs": [],
   "source": [
    "#3. 설정파일"
   ]
  },
  {
   "cell_type": "code",
   "execution_count": null,
   "id": "d464cf81-6a23-4ac4-b61f-1991c2e298e7",
   "metadata": {},
   "outputs": [],
   "source": []
  },
  {
   "cell_type": "code",
   "execution_count": null,
   "id": "6bf81408-3a80-4d58-beb9-dbf794c1df4a",
   "metadata": {},
   "outputs": [],
   "source": []
  },
  {
   "cell_type": "code",
   "execution_count": null,
   "id": "aaed1681-d017-4386-a72f-79b1eb2ef7ad",
   "metadata": {},
   "outputs": [],
   "source": []
  }
 ],
 "metadata": {
  "kernelspec": {
   "display_name": "Python 3 (ipykernel)",
   "language": "python",
   "name": "python3"
  },
  "language_info": {
   "codemirror_mode": {
    "name": "ipython",
    "version": 3
   },
   "file_extension": ".py",
   "mimetype": "text/x-python",
   "name": "python",
   "nbconvert_exporter": "python",
   "pygments_lexer": "ipython3",
   "version": "3.9.12"
  }
 },
 "nbformat": 4,
 "nbformat_minor": 5
}
