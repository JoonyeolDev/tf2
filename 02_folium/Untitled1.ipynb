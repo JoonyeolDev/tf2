{
 "cells": [
  {
   "cell_type": "code",
   "execution_count": 3,
   "id": "ed0bb957-e5f0-4b0b-907e-f535f1f4f020",
   "metadata": {},
   "outputs": [],
   "source": [
    "import pandas as pd\n",
    "import folium\n",
    "from folium import plugins\n",
    "import matplotlib as mpl\n",
    "import matplotlib.pyplot as plt\n",
    "import matplotlib.font_manager as fm"
   ]
  },
  {
   "cell_type": "code",
   "execution_count": null,
   "id": "dad51e88-4c02-4d18-a4b8-d5b104f7df30",
   "metadata": {},
   "outputs": [],
   "source": [
    "state_geo = ''\n",
    "state_geo2 = json.load(open("
   ]
  }
 ],
 "metadata": {
  "kernelspec": {
   "display_name": "Python 3 (ipykernel)",
   "language": "python",
   "name": "python3"
  },
  "language_info": {
   "codemirror_mode": {
    "name": "ipython",
    "version": 3
   },
   "file_extension": ".py",
   "mimetype": "text/x-python",
   "name": "python",
   "nbconvert_exporter": "python",
   "pygments_lexer": "ipython3",
   "version": "3.9.12"
  }
 },
 "nbformat": 4,
 "nbformat_minor": 5
}
