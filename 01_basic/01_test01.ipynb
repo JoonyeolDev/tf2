{
 "cells": [
  {
   "cell_type": "markdown",
   "id": "37c46b94-8044-42e0-8c16-c42bb011766c",
   "metadata": {},
   "source": [
    "# 마크다운 설명"
   ]
  },
  {
   "cell_type": "markdown",
   "id": "ec097c10-4c20-4642-897a-78728dd3cf55",
   "metadata": {},
   "source": [
    "[NAVER](https://naver.com \"링크 설명(title)을 작성하세요.\")\n",
    "\n",
    "![Kayak](http://www.tcpschool.com/lectures/img_deeplearning_09_ann.png) #이미지 링크로 불러오기\n",
    "\n",
    "\n",
    "```python # 코드 적는것은\n",
    "s = \"Python syntax highlighting\"\n",
    "print s\n",
    "```\n",
    "\n",
    "한글작업을 합니다.  # 줄바꿈은 스페이스바 두번\n",
    "한글작업을 합니다."
   ]
  },
  {
   "cell_type": "code",
   "execution_count": 1,
   "id": "382a7ed0-5ef6-4ebd-a94d-9ab40461b415",
   "metadata": {},
   "outputs": [
    {
     "name": "stdout",
     "output_type": "stream",
     "text": [
      "hi\n",
      "hello\n"
     ]
    }
   ],
   "source": [
    "print('hi')\n",
    "\n",
    "print('hello')\n",
    "\n"
   ]
  }
 ],
 "metadata": {
  "kernelspec": {
   "display_name": "Python 3 (ipykernel)",
   "language": "python",
   "name": "python3"
  },
  "language_info": {
   "codemirror_mode": {
    "name": "ipython",
    "version": 3
   },
   "file_extension": ".py",
   "mimetype": "text/x-python",
   "name": "python",
   "nbconvert_exporter": "python",
   "pygments_lexer": "ipython3",
   "version": "3.9.12"
  }
 },
 "nbformat": 4,
 "nbformat_minor": 5
}
