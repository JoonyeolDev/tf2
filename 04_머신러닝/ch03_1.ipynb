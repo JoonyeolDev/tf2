{
 "cells": [
  {
   "cell_type": "code",
   "execution_count": 1,
   "id": "66300ef0-eba9-4510-98a1-65da877c8d20",
   "metadata": {},
   "outputs": [],
   "source": [
    "from sklearn.base import BaseEstimator"
   ]
  },
  {
   "cell_type": "code",
   "execution_count": 2,
   "id": "77a19569-3541-4a51-82cd-64c76a506e0a",
   "metadata": {},
   "outputs": [],
   "source": [
    "class MyDummyClassifier(BaseEstimator):\n",
    "    def fit(self,X,y=None):\n",
    "        pass\n",
    "    def predict(self,X):\n",
    "        import numpy as np\n",
    "        pred = np.zeros((X.shape[0],1)) #X.shape[0] 행으로 필요함\n",
    "        for i in range(X.shape[0]):\n",
    "            if X['Sex'].iloc[i] == 1:\n",
    "                pred[i] = 0\n",
    "            else:\n",
    "                pred[i] = 1\n",
    "        return pred"
   ]
  },
  {
   "cell_type": "code",
   "execution_count": 3,
   "id": "207cc740-48d4-450d-97e0-fbce71431840",
   "metadata": {},
   "outputs": [],
   "source": [
    "def fillna(df):\n",
    "    df['Age'].fillna(df['Age'].mean(),inplace=True)\n",
    "    df['Cabin'].fillna('N',inplace=True)\n",
    "    df['Embarked'].fillna('N',inplace=True)\n",
    "    df['Fare'].fillna(0,inplace=True)\n",
    "    return df\n",
    "def drop_features(df):\n",
    "    df.drop(columns=['PassengerId','Name','Ticket'],inplace=True)\n",
    "    return df\n",
    "def format_features(df):\n",
    "    from sklearn.preprocessing import LabelEncoder\n",
    "    df['Cabin'] = df['Cabin'].str[0]\n",
    "    features = ['Cabin','Sex','Embarked']\n",
    "    for feature in features:\n",
    "        le = LabelEncoder()\n",
    "        df[feature] = le.fit_transform(df[feature])\n",
    "        print(le.classes_)\n",
    "    return df \n",
    "def transform_features():\n",
    "    import pandas as pd\n",
    "    df = pd.read_csv('titanic_train.csv')\n",
    "    df = fillna(df)\n",
    "    df = drop_features(df)\n",
    "    df = format_features(df)\n",
    "    return df  "
   ]
  },
  {
   "cell_type": "code",
   "execution_count": 4,
   "id": "fbf987af-b44d-4c2e-8820-94d74f6e891a",
   "metadata": {},
   "outputs": [
    {
     "name": "stdout",
     "output_type": "stream",
     "text": [
      "['A' 'B' 'C' 'D' 'E' 'F' 'G' 'N' 'T']\n",
      "['female' 'male']\n",
      "['C' 'N' 'Q' 'S']\n"
     ]
    }
   ],
   "source": [
    "titanic_df = transform_features()"
   ]
  },
  {
   "cell_type": "code",
   "execution_count": 5,
   "id": "51ca0976-d62b-4dba-92c1-0537f738114b",
   "metadata": {},
   "outputs": [],
   "source": [
    "from sklearn.model_selection import train_test_split\n",
    "X_df = titanic_df.drop(columns=['Survived'])\n",
    "y_df = titanic_df['Survived']\n",
    "X_train,X_test,y_train,y_test = train_test_split(X_df,y_df,test_size=0.2,random_state=11)"
   ]
  },
  {
   "cell_type": "code",
   "execution_count": 6,
   "id": "85452e38-7ed3-471f-bc3a-664756f6a9ac",
   "metadata": {},
   "outputs": [],
   "source": [
    "from sklearn.metrics import accuracy_score"
   ]
  },
  {
   "cell_type": "code",
   "execution_count": 7,
   "id": "0fc2f54e-6e93-4350-ada6-b8d7d0f9a940",
   "metadata": {},
   "outputs": [
    {
     "data": {
      "text/plain": [
       "0.8324022346368715"
      ]
     },
     "execution_count": 7,
     "metadata": {},
     "output_type": "execute_result"
    }
   ],
   "source": [
    "my = MyDummyClassifier()\n",
    "my.fit(X_train, y_train)\n",
    "pred = my.predict(X_test)\n",
    "accuracy_score(y_test, pred)"
   ]
  },
  {
   "cell_type": "code",
   "execution_count": 8,
   "id": "6cabc58a-5334-4d88-b731-79c6c85e624f",
   "metadata": {},
   "outputs": [],
   "source": [
    "from sklearn.metrics import confusion_matrix"
   ]
  },
  {
   "cell_type": "code",
   "execution_count": 9,
   "id": "a2e13dc0-1f06-43fe-953f-04fcac849615",
   "metadata": {},
   "outputs": [
    {
     "data": {
      "text/plain": [
       "array([[103,  15],\n",
       "       [ 15,  46]], dtype=int64)"
      ]
     },
     "execution_count": 9,
     "metadata": {},
     "output_type": "execute_result"
    }
   ],
   "source": [
    "confusion_matrix(y_test, pred)"
   ]
  },
  {
   "cell_type": "code",
   "execution_count": 10,
   "id": "54a91ab8-f769-4af1-9b69-d85890d9b0f7",
   "metadata": {},
   "outputs": [],
   "source": [
    "from sklearn.metrics import recall_score,precision_score"
   ]
  },
  {
   "cell_type": "code",
   "execution_count": 11,
   "id": "33cc164a-59eb-4d38-b813-db0b2ecef56a",
   "metadata": {},
   "outputs": [
    {
     "data": {
      "text/plain": [
       "0.7540983606557377"
      ]
     },
     "execution_count": 11,
     "metadata": {},
     "output_type": "execute_result"
    }
   ],
   "source": [
    "recall_score(y_test, pred)"
   ]
  },
  {
   "cell_type": "code",
   "execution_count": 12,
   "id": "718147d8-c428-4058-bd6e-88c80700339c",
   "metadata": {},
   "outputs": [
    {
     "data": {
      "text/plain": [
       "0.7540983606557377"
      ]
     },
     "execution_count": 12,
     "metadata": {},
     "output_type": "execute_result"
    }
   ],
   "source": [
    "precision_score(y_test, pred)"
   ]
  },
  {
   "cell_type": "code",
   "execution_count": 13,
   "id": "05139ff6-7d92-4d29-b763-588b5b34ebef",
   "metadata": {},
   "outputs": [],
   "source": [
    "from sklearn.metrics import accuracy_score,confusion_matrix,recall_score,precision_score"
   ]
  },
  {
   "cell_type": "code",
   "execution_count": 14,
   "id": "33461699-d03e-4cad-8d49-548d077d8303",
   "metadata": {},
   "outputs": [],
   "source": [
    "def get_clf_eval(y_test, pred):\n",
    "    from sklearn.metrics import accuracy_score,confusion_matrix,recall_score,precision_score\n",
    "    accuracy = accuracy_score(y_test, pred)\n",
    "    confusion = confusion_matrix(y_test, pred)\n",
    "    precision = precision_score(y_test, pred)\n",
    "    recall = recall_score(y_test, pred)\n",
    "    print('오차행렬')\n",
    "    print(confusion)\n",
    "    print(f'정확도:{accuracy:.4f} 정밀도:{precision:.4f} 재현율:{recall:.4f}')"
   ]
  },
  {
   "cell_type": "code",
   "execution_count": 15,
   "id": "55974d34-0e39-47e6-a821-2faa609d5807",
   "metadata": {},
   "outputs": [
    {
     "name": "stdout",
     "output_type": "stream",
     "text": [
      "오차행렬\n",
      "[[103  15]\n",
      " [ 15  46]]\n",
      "정확도:0.8324 정밀도:0.7541 재현율:0.7541\n"
     ]
    }
   ],
   "source": [
    "get_clf_eval(y_test, pred)"
   ]
  },
  {
   "cell_type": "code",
   "execution_count": 16,
   "id": "465a77a5-9f69-4f2e-9337-7761d3fdf645",
   "metadata": {},
   "outputs": [],
   "source": [
    "from sklearn.linear_model import LogisticRegression"
   ]
  },
  {
   "cell_type": "code",
   "execution_count": 17,
   "id": "2c00f9e9-4ee7-41d8-b057-e4a090a283ba",
   "metadata": {},
   "outputs": [
    {
     "name": "stdout",
     "output_type": "stream",
     "text": [
      "['A' 'B' 'C' 'D' 'E' 'F' 'G' 'N' 'T']\n",
      "['female' 'male']\n",
      "['C' 'N' 'Q' 'S']\n"
     ]
    }
   ],
   "source": [
    "titanic_df = transform_features()\n",
    "from sklearn.model_selection import train_test_split\n",
    "X_df = titanic_df.drop(columns=['Survived'])\n",
    "y_df = titanic_df['Survived']\n",
    "X_train,X_test,y_train,y_test = train_test_split(X_df,y_df,test_size=0.2,random_state=11)"
   ]
  },
  {
   "cell_type": "code",
   "execution_count": 18,
   "id": "c7f699a8-d5e5-4e10-804a-829fd10fa923",
   "metadata": {},
   "outputs": [
    {
     "name": "stdout",
     "output_type": "stream",
     "text": [
      "오차행렬\n",
      "[[108  10]\n",
      " [ 14  47]]\n",
      "정확도:0.8659 정밀도:0.8246 재현율:0.7705\n"
     ]
    }
   ],
   "source": [
    "lr_clf = LogisticRegression(solver='liblinear')\n",
    "lr_clf.fit(X_train,y_train)\n",
    "pred = lr_clf.predict(X_test)\n",
    "get_clf_eval(y_test,pred)"
   ]
  },
  {
   "cell_type": "code",
   "execution_count": 19,
   "id": "0d126be2-5eeb-4e6f-b0f4-e453ed17a553",
   "metadata": {},
   "outputs": [],
   "source": [
    "pred_proba = lr_clf.predict_proba(X_test)"
   ]
  },
  {
   "cell_type": "code",
   "execution_count": 20,
   "id": "41918931-5e2e-4ecf-b75d-2755fde8e484",
   "metadata": {},
   "outputs": [
    {
     "data": {
      "text/plain": [
       "(179, 2)"
      ]
     },
     "execution_count": 20,
     "metadata": {},
     "output_type": "execute_result"
    }
   ],
   "source": [
    "pred_proba.shape"
   ]
  },
  {
   "cell_type": "code",
   "execution_count": 21,
   "id": "97df4282-348e-49b2-8cbf-863969b1d9ce",
   "metadata": {},
   "outputs": [
    {
     "data": {
      "text/plain": [
       "array([1, 0, 0], dtype=int64)"
      ]
     },
     "execution_count": 21,
     "metadata": {},
     "output_type": "execute_result"
    }
   ],
   "source": [
    "pred[:3]"
   ]
  },
  {
   "cell_type": "code",
   "execution_count": 22,
   "id": "6f4a8a07-2c28-4c73-9ee7-8a8e5c27b51a",
   "metadata": {},
   "outputs": [
    {
     "data": {
      "text/plain": [
       "array([[0.44935228, 0.55064772],\n",
       "       [0.86335513, 0.13664487],\n",
       "       [0.86429645, 0.13570355]])"
      ]
     },
     "execution_count": 22,
     "metadata": {},
     "output_type": "execute_result"
    }
   ],
   "source": [
    "pred_proba[:3]"
   ]
  },
  {
   "cell_type": "code",
   "execution_count": 23,
   "id": "ef2e4a60-41b2-4fdf-803e-0938b3d5c429",
   "metadata": {},
   "outputs": [],
   "source": [
    "import numpy as np"
   ]
  },
  {
   "cell_type": "code",
   "execution_count": 24,
   "id": "f4461716-b580-40e1-9c96-24872bb4111f",
   "metadata": {},
   "outputs": [
    {
     "data": {
      "text/plain": [
       "array([[0.44935228, 0.55064772, 1.        ],\n",
       "       [0.86335513, 0.13664487, 0.        ],\n",
       "       [0.86429645, 0.13570355, 0.        ]])"
      ]
     },
     "execution_count": 24,
     "metadata": {},
     "output_type": "execute_result"
    }
   ],
   "source": [
    "pred_proba_result = np.concatenate([pred_proba, pred.reshape(-1,1)],axis=1)\n",
    "pred_proba_result[:3]"
   ]
  },
  {
   "cell_type": "code",
   "execution_count": 25,
   "id": "414d5f33-dbe6-485d-8c97-80218abd15b1",
   "metadata": {},
   "outputs": [],
   "source": [
    "from sklearn.preprocessing import Binarizer"
   ]
  },
  {
   "cell_type": "code",
   "execution_count": 26,
   "id": "cec34a4c-6336-4ff8-9818-ec0dc24a4e97",
   "metadata": {},
   "outputs": [],
   "source": [
    "X = [[1,-1,2],[2,0,0],[0,1.1,1.2]]"
   ]
  },
  {
   "cell_type": "code",
   "execution_count": 27,
   "id": "e89751ed-befb-479f-bdd1-859d46a65a19",
   "metadata": {},
   "outputs": [],
   "source": [
    "bi = Binarizer() # 임계값 조절"
   ]
  },
  {
   "cell_type": "code",
   "execution_count": 28,
   "id": "3dce22d2-d26e-4bfe-bdbb-a72357093151",
   "metadata": {},
   "outputs": [
    {
     "data": {
      "text/plain": [
       "array([[1., 0., 1.],\n",
       "       [1., 0., 0.],\n",
       "       [0., 1., 1.]])"
      ]
     },
     "execution_count": 28,
     "metadata": {},
     "output_type": "execute_result"
    }
   ],
   "source": [
    "bi.fit_transform(X)"
   ]
  },
  {
   "cell_type": "code",
   "execution_count": 29,
   "id": "ab54b2fd-4d5f-40aa-8f3b-644f18de6439",
   "metadata": {},
   "outputs": [],
   "source": [
    "bi = Binarizer(threshold=1.1)"
   ]
  },
  {
   "cell_type": "code",
   "execution_count": 30,
   "id": "ca5e4961-9083-4eca-b09b-bf8b67e62231",
   "metadata": {},
   "outputs": [
    {
     "data": {
      "text/plain": [
       "array([[0., 0., 1.],\n",
       "       [1., 0., 0.],\n",
       "       [0., 0., 1.]])"
      ]
     },
     "execution_count": 30,
     "metadata": {},
     "output_type": "execute_result"
    }
   ],
   "source": [
    "bi.fit_transform(X)"
   ]
  },
  {
   "cell_type": "code",
   "execution_count": 31,
   "id": "cd64f0a9-b724-4e7b-bec7-1c154539d1a5",
   "metadata": {},
   "outputs": [],
   "source": [
    "custom_threshold = 0.5\n",
    "pred_proba_1 = pred_proba[:,1].reshape(-1,1) # 행은 전부 다 , 열은 두번째꺼만 > reshape으로 모양 조정\n",
    "bi = Binarizer(threshold=custom_threshold)\n",
    "custom_predict = bi.fit_transform(pred_proba_1)"
   ]
  },
  {
   "cell_type": "code",
   "execution_count": 32,
   "id": "b2841e87-3ccb-4f73-97c3-30296d38af4c",
   "metadata": {},
   "outputs": [
    {
     "name": "stdout",
     "output_type": "stream",
     "text": [
      "오차행렬\n",
      "[[108  10]\n",
      " [ 14  47]]\n",
      "정확도:0.8659 정밀도:0.8246 재현율:0.7705\n"
     ]
    }
   ],
   "source": [
    "get_clf_eval(y_test,custom_predict)\n",
    "# 오차행렬\n",
    "# [[108  10]\n",
    "#  [ 14  47]]\n",
    "# 정확도:0.8659 정밀도:0.8246 재현율:0.7705"
   ]
  },
  {
   "cell_type": "code",
   "execution_count": 33,
   "id": "7ced7454-5285-48c3-8081-a8216e156d8f",
   "metadata": {},
   "outputs": [
    {
     "name": "stdout",
     "output_type": "stream",
     "text": [
      "오차행렬\n",
      "[[97 21]\n",
      " [11 50]]\n",
      "정확도:0.8212 정밀도:0.7042 재현율:0.8197\n"
     ]
    }
   ],
   "source": [
    "custom_threshold = 0.4\n",
    "pred_proba_1 = pred_proba[:,1].reshape(-1,1) # 행은 전부 다 , 열은 두번째꺼만 > reshape으로 모양 조정\n",
    "bi = Binarizer(threshold=custom_threshold)\n",
    "custom_predict = bi.fit_transform(pred_proba_1)\n",
    "get_clf_eval(y_test,custom_predict)\n",
    "# 오차행렬\n",
    "# [[108  10]\n",
    "#  [ 14  47]]\n",
    "# 정확도:0.8659 정밀도:0.8246 재현율:0.7705"
   ]
  },
  {
   "cell_type": "code",
   "execution_count": 34,
   "id": "66928117-3d17-4c3d-b8f3-632aa1751658",
   "metadata": {},
   "outputs": [
    {
     "name": "stdout",
     "output_type": "stream",
     "text": [
      "오차행렬\n",
      "[[113   5]\n",
      " [ 17  44]]\n",
      "정확도:0.8771 정밀도:0.8980 재현율:0.7213\n"
     ]
    }
   ],
   "source": [
    "custom_threshold = 0.6\n",
    "pred_proba_1 = pred_proba[:,1].reshape(-1,1) # 행은 전부 다 , 열은 두번째꺼만 > reshape으로 모양 조정\n",
    "bi = Binarizer(threshold=custom_threshold)\n",
    "custom_predict = bi.fit_transform(pred_proba_1)\n",
    "get_clf_eval(y_test,custom_predict)\n",
    "# 오차행렬\n",
    "# [[108  10]\n",
    "#  [ 14  47]]\n",
    "# 정확도:0.8659 정밀도:0.8246 재현율:0.7705"
   ]
  },
  {
   "cell_type": "code",
   "execution_count": 35,
   "id": "88e2d1f0-4628-4a98-96c9-372202def7e0",
   "metadata": {},
   "outputs": [],
   "source": [
    "thresholds = [0.4, 0.45, 0.5, 0.55, 0.6]\n",
    "def get_eval_by_threshold(y_test,pred_proba_c1,threshold):\n",
    "    for threshold in thresholds:\n",
    "        bi = Binarizer(threshold=threshold)\n",
    "        custom_predict = bi.fit_transform(pred_proba_c1)\n",
    "        get_clf_eval(y_test,custom_predict)"
   ]
  },
  {
   "cell_type": "code",
   "execution_count": 36,
   "id": "1c709daa-4c75-4eb6-8e08-fc656f314ff4",
   "metadata": {},
   "outputs": [
    {
     "name": "stdout",
     "output_type": "stream",
     "text": [
      "오차행렬\n",
      "[[97 21]\n",
      " [11 50]]\n",
      "정확도:0.8212 정밀도:0.7042 재현율:0.8197\n",
      "오차행렬\n",
      "[[105  13]\n",
      " [ 13  48]]\n",
      "정확도:0.8547 정밀도:0.7869 재현율:0.7869\n",
      "오차행렬\n",
      "[[108  10]\n",
      " [ 14  47]]\n",
      "정확도:0.8659 정밀도:0.8246 재현율:0.7705\n",
      "오차행렬\n",
      "[[111   7]\n",
      " [ 16  45]]\n",
      "정확도:0.8715 정밀도:0.8654 재현율:0.7377\n",
      "오차행렬\n",
      "[[113   5]\n",
      " [ 17  44]]\n",
      "정확도:0.8771 정밀도:0.8980 재현율:0.7213\n"
     ]
    }
   ],
   "source": [
    "get_eval_by_threshold(y_test, pred_proba[:,1].reshape(-1,1),thresholds)"
   ]
  },
  {
   "cell_type": "code",
   "execution_count": 37,
   "id": "4fc86e97-f14f-4fdb-aea3-5d600d931c67",
   "metadata": {},
   "outputs": [
    {
     "name": "stdout",
     "output_type": "stream",
     "text": [
      "반환된 분류 결정 임계값 배열의 Shape: (147,)\n",
      "샘플 추출을 위한 임계값 배열의 index 10개: [  0  15  30  45  60  75  90 105 120 135]\n",
      "샘플용 10개의 임계값:  [0.12 0.13 0.15 0.17 0.26 0.38 0.49 0.63 0.76 0.9 ]\n",
      "샘플 임계값별 정밀도:  [0.379 0.424 0.455 0.519 0.618 0.676 0.797 0.93  0.964 1.   ]\n",
      "샘플 임계값별 재현율:  [1.    0.967 0.902 0.902 0.902 0.82  0.77  0.656 0.443 0.213]\n"
     ]
    }
   ],
   "source": [
    "from sklearn.metrics import precision_recall_curve\n",
    "\n",
    "# 레이블 값이 1일 때의 예측 확률을 추출\n",
    "pred_proba_class1 = lr_clf.predict_proba(X_test)[:,1]\n",
    "\n",
    "# 실제값 데이터 세트와 레이블 값이 1일 때의 예측 확률을 precision_recall_curve 인자로 입력\n",
    "precisions, recalls, thresholds = precision_recall_curve(y_test, pred_proba_class1)\n",
    "print('반환된 분류 결정 임계값 배열의 Shape:', thresholds.shape)\n",
    "\n",
    "# 반환된 임계값 배열 로우가 147건이므로 샘플로 10건만 추출하되, 임계값을 15step으로 추출\n",
    "thr_index = np.arange(0, thresholds.shape[0], 15)\n",
    "print('샘플 추출을 위한 임계값 배열의 index 10개:', thr_index)\n",
    "print('샘플용 10개의 임계값: ', np.round(thresholds[thr_index],2))\n",
    "\n",
    "# 15 step 단위로 추출된 임계값에 딸느 정밀도와 재현율 값\n",
    "print('샘플 임계값별 정밀도: ', np.round(precisions[thr_index],3))\n",
    "print('샘플 임계값별 재현율: ', np.round(recalls[thr_index],3))"
   ]
  },
  {
   "cell_type": "code",
   "execution_count": 38,
   "id": "e2630d23-3478-42d6-821a-6a4f5c4b3f37",
   "metadata": {},
   "outputs": [],
   "source": [
    "import matplotlib.pyplot as plt\n",
    "import matplotlib.ticker as ticker"
   ]
  },
  {
   "cell_type": "code",
   "execution_count": 39,
   "id": "6d64401d-a638-4dd4-8f8b-62e9886af276",
   "metadata": {},
   "outputs": [],
   "source": [
    "def precision_recall_curve_plot(y_test, pred_proba_c1):\n",
    "    # threshold ndarray와 이 threshold에 따른 정밀도, 재현율 ndarray 추출\n",
    "    precisions, recalls, thresholds = precision_recall_curve(y_test,pred_proba_c1)\n",
    "    \n",
    "    # X축을 threshold 값으로, Y축은 정밀도, 재현율 값으로 각각 Plot 수행, 정밀도는 점선으로 표시\n",
    "    plt.figure(figsize=(8,6))\n",
    "    threshold_boundary = thresholds.shape[0]\n",
    "    plt.plot(thresholds, precisions[0:threshold_boundary], linestyle='--',label='precision')\n",
    "    plt.plot(thresholds, recalls[0:threshold_boundary],label='recall')\n",
    "    \n",
    "    # threshold 값 X축의 Scale을 0.1 단위로 변경\n",
    "    start, end = plt.xlim()\n",
    "    plt.xticks(np.round(np.arange(start, end, 0.1), 2))\n",
    "    \n",
    "    # x축 y축 label과 legend, 그리고 grid 설정\n",
    "    plt.xlabel('Threshold value'); plt.ylabel('Precision and Recall value')\n",
    "    plt.show()"
   ]
  },
  {
   "cell_type": "code",
   "execution_count": 40,
   "id": "35df3225-cb93-4671-ab3e-6700224737e5",
   "metadata": {},
   "outputs": [
    {
     "data": {
      "image/png": "[encoded data removed]",
      "text/plain": [
       "<Figure size 576x432 with 1 Axes>"
      ]
     },
     "metadata": {
      "needs_background": "light"
     },
     "output_type": "display_data"
    }
   ],
   "source": [
    "precision_recall_curve_plot(y_test, lr_clf.predict_proba(X_test)[:,1])"
   ]
  },
  {
   "cell_type": "code",
   "execution_count": 41,
   "id": "60c47c76-d1de-4c97-825d-8cb4013a045d",
   "metadata": {},
   "outputs": [],
   "source": [
    "from sklearn.metrics import f1_score"
   ]
  },
  {
   "cell_type": "code",
   "execution_count": 43,
   "id": "da8a0786-a4f1-481f-ad90-fb5ac408f7d8",
   "metadata": {},
   "outputs": [
    {
     "data": {
      "text/plain": [
       "0.7966101694915254"
      ]
     },
     "execution_count": 43,
     "metadata": {},
     "output_type": "execute_result"
    }
   ],
   "source": [
    "f1_score(y_test,pred)"
   ]
  },
  {
   "cell_type": "code",
   "execution_count": 48,
   "id": "2d7f8320-99da-4ed6-86da-9afce3ffda47",
   "metadata": {},
   "outputs": [],
   "source": [
    "def get_clf_eval(y_test, pred):\n",
    "    from sklearn.metrics import accuracy_score,confusion_matrix,recall_score,precision_score,f1_score\n",
    "    accuracy = accuracy_score(y_test, pred)\n",
    "    confusion = confusion_matrix(y_test, pred)\n",
    "    precision = precision_score(y_test, pred)\n",
    "    recall = recall_score(y_test, pred)\n",
    "    f1 = f1_score(y_test, pred)\n",
    "    print('오차행렬')\n",
    "    print(confusion)\n",
    "    print(f'정확도:{accuracy:.4f} 정밀도:{precision:.4f} 재현율:{recall:.4f} f1:{f1:.4f}')"
   ]
  },
  {
   "cell_type": "code",
   "execution_count": 49,
   "id": "92323fc8-10ed-42af-95ec-011431641ebc",
   "metadata": {},
   "outputs": [
    {
     "name": "stdout",
     "output_type": "stream",
     "text": [
      "오차행렬\n",
      "[[97 21]\n",
      " [11 50]]\n",
      "정확도:0.8212 정밀도:0.7042 재현율:0.8197 f1:0.7576\n",
      "오차행렬\n",
      "[[105  13]\n",
      " [ 13  48]]\n",
      "정확도:0.8547 정밀도:0.7869 재현율:0.7869 f1:0.7869\n",
      "오차행렬\n",
      "[[108  10]\n",
      " [ 14  47]]\n",
      "정확도:0.8659 정밀도:0.8246 재현율:0.7705 f1:0.7966\n",
      "오차행렬\n",
      "[[111   7]\n",
      " [ 16  45]]\n",
      "정확도:0.8715 정밀도:0.8654 재현율:0.7377 f1:0.7965\n",
      "오차행렬\n",
      "[[113   5]\n",
      " [ 17  44]]\n",
      "정확도:0.8771 정밀도:0.8980 재현율:0.7213 f1:0.8000\n"
     ]
    }
   ],
   "source": [
    "thresholds = [0.4, 0.45, 0.5, 0.55, 0.6]\n",
    "pred_proba = lr_clf.predict_proba(X_test)\n",
    "get_eval_threshold(y_test,pred_proba[:,1].reshape(-1,1),thresholds)"
   ]
  },
  {
   "cell_type": "code",
   "execution_count": 50,
   "id": "3aaa93b3-1c09-491a-b3bb-e249603616b6",
   "metadata": {},
   "outputs": [],
   "source": [
    "from sklearn.metrics import roc_curve"
   ]
  },
  {
   "cell_type": "code",
   "execution_count": 57,
   "id": "08756f86-ff3e-412a-a336-965ac44daddc",
   "metadata": {},
   "outputs": [],
   "source": [
    "pred_proba_class1 = lr_clf.predict_proba(X_test)[:,1]\n",
    "\n",
    "fprs, tprs, thresholds = roc_curve(y_test,pred_proba_class1)"
   ]
  },
  {
   "cell_type": "code",
   "execution_count": 58,
   "id": "056114a1-a32c-4cca-8c82-58a74ff4dc58",
   "metadata": {},
   "outputs": [
    {
     "data": {
      "text/plain": [
       "array([ 1,  6, 11, 16, 21, 26, 31, 36, 41, 46])"
      ]
     },
     "execution_count": 58,
     "metadata": {},
     "output_type": "execute_result"
    }
   ],
   "source": [
    "thr_index = np.arange(1, thresholds.shape[0],5)\n",
    "thr_index"
   ]
  },
  {
   "cell_type": "code",
   "execution_count": 60,
   "id": "36f656fd-55f0-4460-9d94-8100bef53ee7",
   "metadata": {},
   "outputs": [
    {
     "data": {
      "text/plain": [
       "array([0.94, 0.73, 0.62, 0.52, 0.44, 0.28, 0.15, 0.14, 0.13, 0.12])"
      ]
     },
     "execution_count": 60,
     "metadata": {},
     "output_type": "execute_result"
    }
   ],
   "source": [
    "np.round(thresholds[thr_index],2)"
   ]
  },
  {
   "cell_type": "code",
   "execution_count": 61,
   "id": "9a0a860b-4a52-4ea0-8add-3bf4da784a79",
   "metadata": {},
   "outputs": [
    {
     "data": {
      "text/plain": [
       "array([0.   , 0.008, 0.025, 0.076, 0.127, 0.254, 0.576, 0.61 , 0.746,\n",
       "       0.847])"
      ]
     },
     "execution_count": 61,
     "metadata": {},
     "output_type": "execute_result"
    }
   ],
   "source": [
    "np.round(fprs[thr_index],3)"
   ]
  },
  {
   "cell_type": "code",
   "execution_count": 62,
   "id": "2eed5926-4932-4cb9-af83-dc0ac700d115",
   "metadata": {},
   "outputs": [
    {
     "data": {
      "text/plain": [
       "array([0.016, 0.492, 0.705, 0.738, 0.803, 0.885, 0.902, 0.951, 0.967,\n",
       "       1.   ])"
      ]
     },
     "execution_count": 62,
     "metadata": {},
     "output_type": "execute_result"
    }
   ],
   "source": [
    "np.round(tprs[thr_index],3)"
   ]
  },
  {
   "cell_type": "code",
   "execution_count": 66,
   "id": "55c34905-862f-4a55-b15e-fc6181292323",
   "metadata": {},
   "outputs": [],
   "source": [
    "def roc_curve_plot(y_test, pred_proba_c1):\n",
    "    fprs, tprs, threshold = roc_curve(y_test,pred_proba_c1)\n",
    "    plt.plot(fprs, tprs, label='ROC')\n",
    "    plt.plot([0,1],[0,1],'k--', label='Random')\n",
    "    start, end = plt.xlim()\n",
    "    plt.xticks(np.round(np.arange(start,end,0.1),2))\n",
    "    plt.xlim(0,1)\n",
    "    plt.ylim(0,1)\n",
    "    plt.xlabel('fpr')\n",
    "    plt.ylabel('tpr')\n",
    "    plt.legend()"
   ]
  },
  {
   "cell_type": "code",
   "execution_count": 67,
   "id": "87f9cf5c-b51b-4b06-9cf6-641604fe3321",
   "metadata": {},
   "outputs": [
    {
     "data": {
      "image/png": "[encoded data removed]",
      "text/plain": [
       "<Figure size 432x288 with 1 Axes>"
      ]
     },
     "metadata": {
      "needs_background": "light"
     },
     "output_type": "display_data"
    }
   ],
   "source": [
    "roc_curve_plot(y_test,pred_proba_class1)"
   ]
  },
  {
   "cell_type": "code",
   "execution_count": 68,
   "id": "f17d5049-24e5-4243-8b99-97614c14ee64",
   "metadata": {},
   "outputs": [],
   "source": [
    "from sklearn.metrics import roc_auc_score"
   ]
  },
  {
   "cell_type": "code",
   "execution_count": 69,
   "id": "74536621-65fe-4685-84cc-7efeb16a87c6",
   "metadata": {},
   "outputs": [
    {
     "data": {
      "text/plain": [
       "0.8986524034454015"
      ]
     },
     "execution_count": 69,
     "metadata": {},
     "output_type": "execute_result"
    }
   ],
   "source": [
    "roc_auc_score(y_test,pred_proba_class1)"
   ]
  },
  {
   "cell_type": "code",
   "execution_count": 70,
   "id": "8f866454-dcfc-4e8d-ba5b-1f483cfdc293",
   "metadata": {},
   "outputs": [],
   "source": [
    "def get_clf_eval(y_test, pred=None, pred_proba=None):\n",
    "    from sklearn.metrics import accuracy_score,confusion_matrix,recall_score,precision_score,f1_score,roc_auc_score\n",
    "    accuracy = accuracy_score(y_test, pred)\n",
    "    confusion = confusion_matrix(y_test, pred)\n",
    "    precision = precision_score(y_test, pred)\n",
    "    recall = recall_score(y_test, pred)\n",
    "    f1 = f1_score(y_test, pred)\n",
    "    roc_auc = roc_auc_score(y_test, pred_proba)\n",
    "    print('오차행렬')\n",
    "    print(confusion)\n",
    "    print(f'정확도:{accuracy:.4f} 정밀도:{precision:.4f} 재현율:{recall:.4f} f1:{f1:.4f} AUC:{roc_auc:.4f}')"
   ]
  },
  {
   "cell_type": "code",
   "execution_count": null,
   "id": "a4243d7f-d712-4ef3-bed6-8b6be73cb94e",
   "metadata": {},
   "outputs": [],
   "source": []
  }
 ],
 "metadata": {
  "kernelspec": {
   "display_name": "Python 3 (ipykernel)",
   "language": "python",
   "name": "python3"
  },
  "language_info": {
   "codemirror_mode": {
    "name": "ipython",
    "version": 3
   },
   "file_extension": ".py",
   "mimetype": "text/x-python",
   "name": "python",
   "nbconvert_exporter": "python",
   "pygments_lexer": "ipython3",
   "version": "3.9.12"
  }
 },
 "nbformat": 4,
 "nbformat_minor": 5
}
