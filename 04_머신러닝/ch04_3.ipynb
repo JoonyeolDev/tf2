{
 "cells": [
  {
   "cell_type": "code",
   "execution_count": 3,
   "id": "4688ce47-3ffb-4cd3-a36d-20e711f2101e",
   "metadata": {},
   "outputs": [],
   "source": [
    "def get_human_dataset():\n",
    "    import pandas as pd\n",
    "    feature_name_df = pd.read_csv('./human_activity/features.txt',sep='\\s+',header=None, names=['column_index','column_name'])\n",
    "    new_name = get_new_feature_name_df(feature_name_df)\n",
    "    feature_name = new_name.iloc[:,1].values.tolist()\n",
    "    X_test = pd.read_csv('./human_activity/test/X_test.txt',sep='\\s+', names=feature_name)\n",
    "    X_train = pd.read_csv('./human_activity/train/X_train.txt',sep='\\s+', names=feature_name)\n",
    "    y_test = pd.read_csv('./human_activity/test/y_test.txt',sep='\\s+', names=['action'])\n",
    "    y_train = pd.read_csv('./human_activity/train/y_train.txt',sep='\\s+', names=['action'])\n",
    "    \n",
    "    return X_train, X_test, y_train, y_test\n",
    "\n",
    "def get_new_feature_name_df(old):\n",
    "    import pandas as pd\n",
    "    dup = pd.DataFrame(data=old.groupby('column_name').cumcount(),columns=['dup_cnt'])\n",
    "    dup = dup.reset_index()\n",
    "    new = pd.merge(old.reset_index(),dup, how='outer')\n",
    "    new['column_name'] = new[['column_name', 'dup_cnt']].apply(lambda x:x[0]+'_'+str(x[1]) if x[1]>0 else x[0] , axis=1) #행단위로 하기위해 axis=1 해줌\n",
    "    new.drop(columns=['index'], inplace=True)\n",
    "    return new"
   ]
  },
  {
   "cell_type": "code",
   "execution_count": 4,
   "id": "680159f8-d8f6-4523-bc6f-c49aa0021da0",
   "metadata": {},
   "outputs": [],
   "source": [
    "X_train, X_test, y_train, y_test =get_human_dataset()"
   ]
  },
  {
   "cell_type": "code",
   "execution_count": 10,
   "id": "dc634d4b-5c18-45d5-adf2-d36aa57868e0",
   "metadata": {},
   "outputs": [],
   "source": [
    "from sklearn.ensemble import RandomForestClassifier\n",
    "from sklearn.metrics import accuracy_score\n",
    "import warnings\n",
    "warnings.filterwarnings('ignore')"
   ]
  },
  {
   "cell_type": "code",
   "execution_count": 11,
   "id": "b76eaf27-fd5d-4e65-b9bc-5051c5b7b698",
   "metadata": {},
   "outputs": [
    {
     "data": {
      "text/plain": [
       "0.9195792331184255"
      ]
     },
     "execution_count": 11,
     "metadata": {},
     "output_type": "execute_result"
    }
   ],
   "source": [
    "rf_clf = RandomForestClassifier(random_state=0, max_depth=8)\n",
    "rf_clf.fit(X_train,y_train)\n",
    "pred = rf_clf.predict(X_test)\n",
    "accuracy_score(y_test,pred)"
   ]
  },
  {
   "cell_type": "code",
   "execution_count": 7,
   "id": "e6d7f303-543a-47bb-ae51-de2d38fb788b",
   "metadata": {},
   "outputs": [],
   "source": [
    "from sklearn.model_selection import GridSearchCV"
   ]
  },
  {
   "cell_type": "code",
   "execution_count": 12,
   "id": "dc423747-b041-4cca-b80e-a4a5f1e711d1",
   "metadata": {},
   "outputs": [
    {
     "name": "stdout",
     "output_type": "stream",
     "text": [
      "{'max_depth': 16, 'min_samples_leaf': 8, 'min_samples_split': 6}\n",
      "0.9178454842219804\n"
     ]
    }
   ],
   "source": [
    "param = {\n",
    "    'max_depth':[8,16,24],\n",
    "    'min_samples_split':[1,6,12],\n",
    "    'min_samples_leaf':[2,8,16]\n",
    "}\n",
    "\n",
    "rf_clf = RandomForestClassifier(n_estimators=100, random_state=0, n_jobs=-1)\n",
    "grid_cv = GridSearchCV(rf_clf,param_grid=param,cv=2,n_jobs=-1)\n",
    "grid_cv.fit(X_train,y_train)\n",
    "print(grid_cv.best_params_)\n",
    "print(grid_cv.best_score_)"
   ]
  },
  {
   "cell_type": "code",
   "execution_count": 15,
   "id": "1a505dbb-7fc6-4975-90a4-88ce0b28a07c",
   "metadata": {},
   "outputs": [
    {
     "data": {
      "text/plain": [
       "0.9222938581608415"
      ]
     },
     "execution_count": 15,
     "metadata": {},
     "output_type": "execute_result"
    }
   ],
   "source": [
    "pred = grid_cv.best_estimator_.predict(X_test)\n",
    "accuracy_score(y_test,pred)"
   ]
  },
  {
   "cell_type": "code",
   "execution_count": 17,
   "id": "6c300fae-a85f-4f32-94e0-cb0b13873063",
   "metadata": {},
   "outputs": [
    {
     "data": {
      "text/plain": [
       "0.9192399049881235"
      ]
     },
     "execution_count": 17,
     "metadata": {},
     "output_type": "execute_result"
    }
   ],
   "source": [
    "rf_clf = RandomForestClassifier(n_estimators=500, random_state=0, n_jobs=-1,max_depth=16,min_samples_leaf=8,min_samples_split=6)\n",
    "rf_clf.fit(X_train,y_train)\n",
    "pred = rf_clf.predict(X_test)\n",
    "accuracy_score(y_test,pred)"
   ]
  },
  {
   "cell_type": "code",
   "execution_count": 18,
   "id": "a6832f6b-203c-4887-85ae-a9f1588e0d56",
   "metadata": {},
   "outputs": [],
   "source": [
    "from sklearn.ensemble import GradientBoostingClassifier"
   ]
  },
  {
   "cell_type": "code",
   "execution_count": 19,
   "id": "0baacb1c-b8b7-4ed7-9c01-d637f526a785",
   "metadata": {},
   "outputs": [
    {
     "name": "stdout",
     "output_type": "stream",
     "text": [
      "CPU times: total: 16min 26s\n",
      "Wall time: 16min 26s\n"
     ]
    },
    {
     "data": {
      "text/plain": [
       "0.9389209365456397"
      ]
     },
     "execution_count": 19,
     "metadata": {},
     "output_type": "execute_result"
    }
   ],
   "source": [
    "%%time\n",
    "\n",
    "gb_clf = GradientBoostingClassifier(random_state=0)\n",
    "gb_clf.fit(X_train,y_train)\n",
    "pred = gb_clf.predict(X_test)\n",
    "accuracy_score(y_test,pred)\n"
   ]
  },
  {
   "cell_type": "code",
   "execution_count": 1,
   "id": "7c5b7730-ae20-4590-9228-c45cc66c340f",
   "metadata": {},
   "outputs": [],
   "source": [
    "from lightgbm import plot_importance"
   ]
  },
  {
   "cell_type": "code",
   "execution_count": null,
   "id": "94c5da19-480e-4747-a62f-b817633f2f9b",
   "metadata": {},
   "outputs": [],
   "source": []
  }
 ],
 "metadata": {
  "kernelspec": {
   "display_name": "Python 3 (ipykernel)",
   "language": "python",
   "name": "python3"
  },
  "language_info": {
   "codemirror_mode": {
    "name": "ipython",
    "version": 3
   },
   "file_extension": ".py",
   "mimetype": "text/x-python",
   "name": "python",
   "nbconvert_exporter": "python",
   "pygments_lexer": "ipython3",
   "version": "3.9.12"
  }
 },
 "nbformat": 4,
 "nbformat_minor": 5
}
